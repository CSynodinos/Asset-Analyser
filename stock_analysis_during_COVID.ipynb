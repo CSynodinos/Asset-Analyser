{
 "cells": [
  {
   "cell_type": "code",
   "execution_count": 13,
   "source": [
    "from lib import data\r\n",
    "from lib import Handler as handler\r\n",
    "import os\r\n",
    "import datetime\r\n",
    "import shutil"
   ],
   "outputs": [],
   "metadata": {}
  },
  {
   "cell_type": "code",
   "execution_count": 10,
   "source": [
    "cwd = os.getcwd()\r\n",
    "directory = handler.directories(d = cwd)\r\n",
    "db_subdir = directory.location('Data') # Find Database subdirectory location."
   ],
   "outputs": [],
   "metadata": {}
  },
  {
   "cell_type": "code",
   "execution_count": 11,
   "source": [
    "stocks_list = ['AAPL', 'MSFT', 'GOOGL', 'GSK', 'AZN', 'PFE']    # Stock list.\r\n",
    "start_date = datetime.datetime(2019, 11, 1) # Apporximate pandemic start date.\r\n",
    "\r\n",
    "stocks = data.stock_data(database = 'Pandemic_Stocks.db', stck = stocks_list, start = start_date)    # Initiate stock class.\r\n",
    "stocks.stocks(today = True) # Get stock data from Yahoo API.\r\n",
    "\r\n",
    "db_output = directory.contents(dir = cwd, pattern = 'Pandemic_St', extension = '.db') # Find database output.\r\n",
    "filename = os.path.basename(db_output)\r\n",
    "slash = directory.OS()  # Operating system.\r\n",
    "shutil.move(db_output, db_subdir + slash + filename)    # Move database output to Databases subdirectory.\r\n",
    "db_path = directory.contents(dir = db_subdir, pattern = 'Pandemic_St', extension = '.db') # Find the new locations of the database."
   ],
   "outputs": [
    {
     "output_type": "stream",
     "name": "stdout",
     "text": [
      "Connecting to Yahoo Finance...\n",
      "Fetching AAPL stock data...\n",
      "Adding AAPL data to Pandemic_Stocks.db database...\n",
      "AAPL stock data saved!\n",
      "Fetching MSFT stock data...\n",
      "Adding MSFT data to Pandemic_Stocks.db database...\n",
      "MSFT stock data saved!\n",
      "Fetching GOOGL stock data...\n",
      "Adding GOOGL data to Pandemic_Stocks.db database...\n",
      "GOOGL stock data saved!\n",
      "Fetching GSK stock data...\n",
      "Adding GSK data to Pandemic_Stocks.db database...\n",
      "GSK stock data saved!\n",
      "Fetching AZN stock data...\n",
      "Adding AZN data to Pandemic_Stocks.db database...\n",
      "AZN stock data saved!\n",
      "Fetching PFE stock data...\n",
      "Adding PFE data to Pandemic_Stocks.db database...\n",
      "PFE stock data saved!\n",
      "Stocks Database has been successfully generated!\n"
     ]
    }
   ],
   "metadata": {}
  },
  {
   "cell_type": "code",
   "execution_count": 12,
   "source": [
    "# Data Query. All SQL tables are added into individual pandas dataframes.\r\n",
    "apple = data.SQLite_Query(db_path, stocks_list[0]) \r\n",
    "microsoft = data.SQLite_Query(db_path, stocks_list[1])\r\n",
    "google = data.SQLite_Query(db_path, stocks_list[2])\r\n",
    "gsk = data.SQLite_Query(db_path, stocks_list[3])\r\n",
    "astra = data.SQLite_Query(db_path, stocks_list[4])\r\n",
    "pfizer = data.SQLite_Query(db_path, stocks_list[5])\r\n"
   ],
   "outputs": [],
   "metadata": {}
  }
 ],
 "metadata": {
  "orig_nbformat": 4,
  "language_info": {
   "name": "python",
   "version": "3.9.4",
   "mimetype": "text/x-python",
   "codemirror_mode": {
    "name": "ipython",
    "version": 3
   },
   "pygments_lexer": "ipython3",
   "nbconvert_exporter": "python",
   "file_extension": ".py"
  },
  "kernelspec": {
   "name": "python3",
   "display_name": "Python 3.9.4 64-bit"
  },
  "interpreter": {
   "hash": "57990f1ad2ea89c67ddae7f31d40c478205c5912da0fccfb7c5cfbb2b8bf17ad"
  }
 },
 "nbformat": 4,
 "nbformat_minor": 2
}